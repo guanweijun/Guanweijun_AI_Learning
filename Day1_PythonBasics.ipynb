{
  "nbformat": 4,
  "nbformat_minor": 0,
  "metadata": {
    "colab": {
      "provenance": [],
      "gpuType": "T4",
      "include_colab_link": true
    },
    "kernelspec": {
      "name": "python3",
      "display_name": "Python 3"
    },
    "language_info": {
      "name": "python"
    },
    "accelerator": "GPU"
  },
  "cells": [
    {
      "cell_type": "markdown",
      "metadata": {
        "id": "view-in-github",
        "colab_type": "text"
      },
      "source": [
        "<a href=\"https://colab.research.google.com/github/guanweijun/Guanweijun_AI_Learning/blob/main/Day1_PythonBasics.ipynb\" target=\"_parent\"><img src=\"https://colab.research.google.com/assets/colab-badge.svg\" alt=\"Open In Colab\"/></a>"
      ]
    },
    {
      "cell_type": "code",
      "execution_count": null,
      "metadata": {
        "colab": {
          "base_uri": "https://localhost:8080/"
        },
        "collapsed": true,
        "id": "gjDBcNs9-c8B",
        "outputId": "5288f383-d571-4d65-bdf1-09822b861a36"
      },
      "outputs": [
        {
          "output_type": "stream",
          "name": "stdout",
          "text": [
            "<class 'int'> <class 'float'>\n",
            "2.0\n",
            "Hello Colab!\n",
            "[5, 3, 1]\n"
          ]
        }
      ],
      "source": [
        "# 基本类型与运算\n",
        "a, b = 5, 2.5\n",
        "print(type(a), type(b))\n",
        "print(a / b)          # 得 2.0 → 自动 float\n",
        "\n",
        "# str 拼接\n",
        "name = \"Colab\"\n",
        "print(f\"Hello {name}!\") #f字符串格式才会认大括号{}，不能省略\n",
        "\n",
        "\n",
        "# list 切片\n",
        "nums = [1, 2, 3, 4, 5]\n",
        "print(nums[::-2]) #反转，list[start:stop:step]•start:起始索引（包含）stop:结束索引（不包含）step: 步长（默认为1)"
      ]
    },
    {
      "cell_type": "code",
      "source": [
        "def c2f(c):\n",
        "    \"\"\"摄氏→华氏\"\"\"\n",
        "    return c * 9 / 5 + 32\n",
        "\n",
        "for c in range(0, 101, 20):\n",
        "    print(f\"{c}°C = {c2f(c):.1f}°F\") #冒号:表示开始格式说明 .1指定小数点后保留1位数字 f表示浮点数格式"
      ],
      "metadata": {
        "colab": {
          "base_uri": "https://localhost:8080/"
        },
        "collapsed": true,
        "id": "uR8_HAIyD0R-",
        "outputId": "2df1b39c-79d9-476f-a976-e2950b52c6e4"
      },
      "execution_count": null,
      "outputs": [
        {
          "output_type": "stream",
          "name": "stdout",
          "text": [
            "0°C = 32.0°F\n",
            "20°C = 68.0°F\n",
            "40°C = 104.0°F\n",
            "60°C = 140.0°F\n",
            "80°C = 176.0°F\n",
            "100°C = 212.0°F\n"
          ]
        }
      ]
    },
    {
      "cell_type": "code",
      "source": [
        "import numpy as np\n",
        "x = np.arange(0, 10, 0.5)      # 0–9.5 步长 0.5,支持浮点数\n",
        "# 从0到9\n",
        "# print(np.arange(10))  # array([0, 1, 2, 3, 4, 5, 6, 7, 8, 9])\n",
        "# 从5到14\n",
        "# print(np.arange(5, 15))  # array([ 5,  6,  7,  8,  9, 10, 11, 12, 13, 14])\n",
        "# 从0到20，步长为5\n",
        "# print(np.arange(0, 21, 5))  # array([ 0,  5, 10, 15, 20])\n",
        "# arange: 指定步长\n",
        "# print(np.arange(0, 1, 0.2))  # array([0. , 0.2, 0.4, 0.6, 0.8])\n",
        "# # linspace: 指定元素个数\n",
        "# print(np.linspace(0, 1, 5))  # array([0. , 0.25, 0.5, 0.75, 1. ])\n",
        "\n",
        "y = 3 * x + 2                  # 线性关系\n",
        "noise = np.random.normal(0, 1, len(x)) #len(x) 表示获取数组 x 的长度（元素个数）\n",
        "y_noisy = y + noise\n",
        "print(\"前 5 个带噪声 y:\", y_noisy[:5]) #[:]not[::]，从左开始读数到:停，第一个是开始，第二个结束，若两个冒号，第三个是步长"
      ],
      "metadata": {
        "colab": {
          "base_uri": "https://localhost:8080/"
        },
        "id": "pnRUGbchFo03",
        "outputId": "5a5b7d2a-d693-48f3-c66f-4fa2956e642b"
      },
      "execution_count": 3,
      "outputs": [
        {
          "output_type": "stream",
          "name": "stdout",
          "text": [
            "前 5 个带噪声 y: [2.14989247 4.79901066 5.42828654 7.43403193 7.83128139]\n"
          ]
        }
      ]
    },
    {
      "cell_type": "code",
      "source": [
        "import matplotlib.pyplot as plt\n",
        "\n",
        "plt.figure(figsize=(6, 4))\n",
        "plt.scatter(x, y_noisy, label='noisy data', color='coral')\n",
        "plt.plot(x, y_noisy, label='noisy data', color='blue')\n",
        "plt.plot(x, y, label='true line: y=3x+2', color='black')\n",
        "plt.xlabel(\"x\"); plt.ylabel(\"y\"); plt.legend()\n",
        "plt.title(\"Day1: 线性散点+拟合直线\")\n",
        "plt.show()"
      ],
      "metadata": {
        "colab": {
          "base_uri": "https://localhost:8080/",
          "height": 685
        },
        "id": "G_iAUxahMvPZ",
        "outputId": "d3278e55-e5cc-455d-ba2e-bf02fbd01fdd"
      },
      "execution_count": null,
      "outputs": [
        {
          "output_type": "stream",
          "name": "stderr",
          "text": [
            "/usr/local/lib/python3.12/dist-packages/IPython/core/pylabtools.py:151: UserWarning: Glyph 32447 (\\N{CJK UNIFIED IDEOGRAPH-7EBF}) missing from font(s) DejaVu Sans.\n",
            "  fig.canvas.print_figure(bytes_io, **kw)\n",
            "/usr/local/lib/python3.12/dist-packages/IPython/core/pylabtools.py:151: UserWarning: Glyph 24615 (\\N{CJK UNIFIED IDEOGRAPH-6027}) missing from font(s) DejaVu Sans.\n",
            "  fig.canvas.print_figure(bytes_io, **kw)\n",
            "/usr/local/lib/python3.12/dist-packages/IPython/core/pylabtools.py:151: UserWarning: Glyph 25955 (\\N{CJK UNIFIED IDEOGRAPH-6563}) missing from font(s) DejaVu Sans.\n",
            "  fig.canvas.print_figure(bytes_io, **kw)\n",
            "/usr/local/lib/python3.12/dist-packages/IPython/core/pylabtools.py:151: UserWarning: Glyph 28857 (\\N{CJK UNIFIED IDEOGRAPH-70B9}) missing from font(s) DejaVu Sans.\n",
            "  fig.canvas.print_figure(bytes_io, **kw)\n",
            "/usr/local/lib/python3.12/dist-packages/IPython/core/pylabtools.py:151: UserWarning: Glyph 25311 (\\N{CJK UNIFIED IDEOGRAPH-62DF}) missing from font(s) DejaVu Sans.\n",
            "  fig.canvas.print_figure(bytes_io, **kw)\n",
            "/usr/local/lib/python3.12/dist-packages/IPython/core/pylabtools.py:151: UserWarning: Glyph 21512 (\\N{CJK UNIFIED IDEOGRAPH-5408}) missing from font(s) DejaVu Sans.\n",
            "  fig.canvas.print_figure(bytes_io, **kw)\n",
            "/usr/local/lib/python3.12/dist-packages/IPython/core/pylabtools.py:151: UserWarning: Glyph 30452 (\\N{CJK UNIFIED IDEOGRAPH-76F4}) missing from font(s) DejaVu Sans.\n",
            "  fig.canvas.print_figure(bytes_io, **kw)\n"
          ]
        },
        {
          "output_type": "display_data",
          "data": {
            "text/plain": [
              "<Figure size 600x400 with 1 Axes>"
            ],
            "image/png": "[encoded data removed]"
          },
          "metadata": {}
        }
      ]
    },
    {
      "cell_type": "code",
      "source": [
        "y_pred = 3 * x + 2              # 假装模型预测 = 真值\n",
        "mse = np.mean((y_noisy - y_pred)**2)\n",
        "print(\"MSE =\", mse)"
      ],
      "metadata": {
        "colab": {
          "base_uri": "https://localhost:8080/"
        },
        "id": "80zscPLNNW8x",
        "outputId": "4452e86a-6992-49f2-8a38-5cf41f7c5031"
      },
      "execution_count": null,
      "outputs": [
        {
          "output_type": "stream",
          "name": "stdout",
          "text": [
            "MSE = 0.7182027682525118\n"
          ]
        }
      ]
    },
    {
      "cell_type": "code",
      "source": [
        "import datetime; print(\"Day1 finished at:\", datetime.datetime.now())"
      ],
      "metadata": {
        "colab": {
          "base_uri": "https://localhost:8080/"
        },
        "id": "7L-d-RDJkGST",
        "outputId": "f670e226-321b-45ac-edcc-c071bff6c31d"
      },
      "execution_count": 7,
      "outputs": [
        {
          "output_type": "stream",
          "name": "stdout",
          "text": [
            "Day1 finished at: 2025-09-28 04:24:21.732948\n"
          ]
        }
      ]
    },
    {
      "cell_type": "code",
      "source": [
        "import numpy as np\n",
        "\n",
        "x = np.array([0.0, 1.0, 2.0, 3.0, 4.0])\n",
        "y_true = 3.0 * x\n",
        "np.random.seed(40)\n",
        "y_noisy = y_true + np.random.normal(0, 0.5, size=x.shape)\n",
        "\n",
        "w = 0.0\n",
        "lr = 0.1  #学习率 0.5 太大，一步迈过“谷底”，每次都在对岸来回蹦，grad越蹦越远。0.1 先跑，稳就留；乱跳减半（0.01），慢就加半（0.3）\n",
        "delta = 1e-4 # ① 抖动量 1x10**-4\n",
        "for epoch in range(50):\n",
        "    # ② 数值梯度：纯粹“试”出方向\n",
        "    loss_right = np.mean((y_noisy - (w + delta) * x)**2)\n",
        "    loss_left  = np.mean((y_noisy - (w - delta) * x)**2)\n",
        "    grad = (loss_right - loss_left) / (2 * delta)\n",
        "\n",
        "    w -= lr * grad                    # ③ 更新\n",
        "    if epoch % 2 == 0:\n",
        "        print(f\"epoch {epoch:02d}: w={w:.3f}, grad={grad:.1f}\")"
      ],
      "metadata": {
        "colab": {
          "base_uri": "https://localhost:8080/"
        },
        "id": "10IOMC4Z2yOX",
        "outputId": "17c2fea7-f5d6-4654-ffb1-02af89b881da"
      },
      "execution_count": 29,
      "outputs": [
        {
          "output_type": "stream",
          "name": "stdout",
          "text": [
            "epoch 00: w=3.478, grad=-34.8\n",
            "epoch 02: w=2.922, grad=-1.4\n",
            "epoch 04: w=2.899, grad=-0.1\n",
            "epoch 06: w=2.899, grad=-0.0\n",
            "epoch 08: w=2.899, grad=-0.0\n",
            "epoch 10: w=2.899, grad=-0.0\n",
            "epoch 12: w=2.899, grad=-0.0\n",
            "epoch 14: w=2.899, grad=-0.0\n",
            "epoch 16: w=2.899, grad=-0.0\n",
            "epoch 18: w=2.899, grad=-0.0\n",
            "epoch 20: w=2.899, grad=-0.0\n",
            "epoch 22: w=2.899, grad=-0.0\n",
            "epoch 24: w=2.899, grad=0.0\n",
            "epoch 26: w=2.899, grad=0.0\n",
            "epoch 28: w=2.899, grad=0.0\n",
            "epoch 30: w=2.899, grad=0.0\n",
            "epoch 32: w=2.899, grad=0.0\n",
            "epoch 34: w=2.899, grad=0.0\n",
            "epoch 36: w=2.899, grad=0.0\n",
            "epoch 38: w=2.899, grad=0.0\n",
            "epoch 40: w=2.899, grad=0.0\n",
            "epoch 42: w=2.899, grad=0.0\n",
            "epoch 44: w=2.899, grad=0.0\n",
            "epoch 46: w=2.899, grad=0.0\n",
            "epoch 48: w=2.899, grad=0.0\n"
          ]
        }
      ]
    }
  ]
}